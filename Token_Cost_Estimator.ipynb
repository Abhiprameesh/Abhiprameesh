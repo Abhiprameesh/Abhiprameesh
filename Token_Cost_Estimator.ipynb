{
  "nbformat": 4,
  "nbformat_minor": 0,
  "metadata": {
    "colab": {
      "provenance": [],
      "authorship_tag": "ABX9TyO4bzTqcBhP+RigFtuEnOeD",
      "include_colab_link": true
    },
    "kernelspec": {
      "name": "python3",
      "display_name": "Python 3"
    },
    "language_info": {
      "name": "python"
    }
  },
  "cells": [
    {
      "cell_type": "markdown",
      "metadata": {
        "id": "view-in-github",
        "colab_type": "text"
      },
      "source": [
        "<a href=\"https://colab.research.google.com/github/Abhiprameesh/Abhiprameesh/blob/main/Token_Cost_Estimator.ipynb\" target=\"_parent\"><img src=\"https://colab.research.google.com/assets/colab-badge.svg\" alt=\"Open In Colab\"/></a>"
      ]
    },
    {
      "cell_type": "code",
      "execution_count": 1,
      "metadata": {
        "colab": {
          "base_uri": "https://localhost:8080/"
        },
        "id": "RbxaAYw7eWi4",
        "outputId": "465053f8-4fe5-4d83-e345-aa6207bad97e"
      },
      "outputs": [
        {
          "output_type": "stream",
          "name": "stdout",
          "text": [
            "Requirement already satisfied: tiktoken in /usr/local/lib/python3.11/dist-packages (0.9.0)\n",
            "Requirement already satisfied: regex>=2022.1.18 in /usr/local/lib/python3.11/dist-packages (from tiktoken) (2024.11.6)\n",
            "Requirement already satisfied: requests>=2.26.0 in /usr/local/lib/python3.11/dist-packages (from tiktoken) (2.32.3)\n",
            "Requirement already satisfied: charset-normalizer<4,>=2 in /usr/local/lib/python3.11/dist-packages (from requests>=2.26.0->tiktoken) (3.4.2)\n",
            "Requirement already satisfied: idna<4,>=2.5 in /usr/local/lib/python3.11/dist-packages (from requests>=2.26.0->tiktoken) (3.10)\n",
            "Requirement already satisfied: urllib3<3,>=1.21.1 in /usr/local/lib/python3.11/dist-packages (from requests>=2.26.0->tiktoken) (2.5.0)\n",
            "Requirement already satisfied: certifi>=2017.4.17 in /usr/local/lib/python3.11/dist-packages (from requests>=2.26.0->tiktoken) (2025.7.14)\n"
          ]
        }
      ],
      "source": [
        "!pip install tiktoken\n",
        "\n"
      ]
    },
    {
      "cell_type": "code",
      "source": [
        "import tiktoken\n",
        "\n",
        "# Choose tokenizer for GPT-4\n",
        "MODEL = \"gpt-4\"\n",
        "text_input = input(\"Enter the text or the prompt to estimate cost:\\n\")"
      ],
      "metadata": {
        "colab": {
          "base_uri": "https://localhost:8080/"
        },
        "id": "64hQ3GFtpjBL",
        "outputId": "65973cc1-fd65-41aa-877d-fdab5bd1446b"
      },
      "execution_count": 23,
      "outputs": [
        {
          "name": "stdout",
          "output_type": "stream",
          "text": [
            "Enter the text or the prompt to estimate cost:\n",
            "abhi\n"
          ]
        }
      ]
    },
    {
      "cell_type": "code",
      "source": [
        "\n",
        "encoding = tiktoken.encoding_for_model(MODEL)\n",
        "tokens = encoding.encode(text_input)\n",
        "# Count total tokens\n",
        "amount_token = len(tokens)\n"
      ],
      "metadata": {
        "id": "z-yBkk4BppAL"
      },
      "execution_count": 24,
      "outputs": []
    },
    {
      "cell_type": "code",
      "source": [
        "# first, Define OpenAI pricing (per 1000 tokens)\n",
        "PRICING = {\n",
        "    \"gpt-3.5-turbo\": 0.0015,\n",
        "    \"gpt-4\": 0.03\n",
        "}\n",
        "# Calculate the estimated cost of it\n",
        "cost = (amount_token / 1000) * PRICING[MODEL]\n",
        "charcount = len(text_input)"
      ],
      "metadata": {
        "id": "PxJTTfSHpqX4"
      },
      "execution_count": 25,
      "outputs": []
    },
    {
      "cell_type": "code",
      "source": [
        "# Show the final result\n",
        "print(\"\\n--- Token Cost Estimation ---\")\n",
        "print(f\"Model Used: {MODEL}\")\n",
        "print(f\"Total Tokens: {amount_token}\")\n",
        "print(f\"Estimated Cost: ${cost:.6f}\")\n",
        "print(f\"Total Characters: {charcount}\")"
      ],
      "metadata": {
        "colab": {
          "base_uri": "https://localhost:8080/"
        },
        "id": "KDg1p9bTpr9_",
        "outputId": "812070c1-0254-48b5-ff0c-27d5866a73ec"
      },
      "execution_count": 26,
      "outputs": [
        {
          "output_type": "stream",
          "name": "stdout",
          "text": [
            "\n",
            "--- Token Cost Estimation ---\n",
            "Model Used: gpt-4\n",
            "Total Tokens: 2\n",
            "Estimated Cost: $0.000060\n",
            "Total Characters: 4\n"
          ]
        }
      ]
    },
    {
      "cell_type": "code",
      "source": [],
      "metadata": {
        "id": "gazT07bvrX-0"
      },
      "execution_count": null,
      "outputs": []
    }
  ]
}